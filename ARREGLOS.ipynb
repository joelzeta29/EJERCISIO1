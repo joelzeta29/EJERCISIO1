{
  "nbformat": 4,
  "nbformat_minor": 0,
  "metadata": {
    "colab": {
      "provenance": [],
      "authorship_tag": "ABX9TyP9H2Whmdq4vzEseYVbwkMM",
      "include_colab_link": true
    },
    "kernelspec": {
      "name": "python3",
      "display_name": "Python 3"
    },
    "language_info": {
      "name": "python"
    }
  },
  "cells": [
    {
      "cell_type": "markdown",
      "metadata": {
        "id": "view-in-github",
        "colab_type": "text"
      },
      "source": [
        "<a href=\"https://colab.research.google.com/github/joelzeta29/EJERCISIO1/blob/main/ARREGLOS.ipynb\" target=\"_parent\"><img src=\"https://colab.research.google.com/assets/colab-badge.svg\" alt=\"Open In Colab\"/></a>"
      ]
    },
    {
      "cell_type": "markdown",
      "source": [
        "*escribe una funcion que tome  arrreglo de enteros y un numero k, y determine si existen numero en el arreglo cuya suma sea igual a k, en colab python *"
      ],
      "metadata": {
        "id": "YJ0-yTW4dbWE"
      }
    },
    {
      "cell_type": "code",
      "execution_count": 1,
      "metadata": {
        "colab": {
          "base_uri": "https://localhost:8080/"
        },
        "id": "CyiNAs-ubA7W",
        "outputId": "8f34ec66-e65e-4757-b6c8-6140eac3d577"
      },
      "outputs": [
        {
          "output_type": "stream",
          "name": "stdout",
          "text": [
            "True\n"
          ]
        }
      ],
      "source": [
        "def existe_suma(arr, k):\n",
        "    # Crear un conjunto para almacenar los elementos del arreglo\n",
        "    elementos = set()\n",
        "\n",
        "    # Recorrer cada número en el arreglo\n",
        "    for num in arr:\n",
        "        # Calcular el complemento del número actual para llegar a k\n",
        "        complemento = k - num\n",
        "\n",
        "        # Verificar si el complemento está en el conjunto\n",
        "        if complemento in elementos:\n",
        "            return True\n",
        "\n",
        "        # Agregar el número actual al conjunto\n",
        "        elementos.add(num)\n",
        "\n",
        "    return False\n",
        "\n",
        "# Ejemplo de uso\n",
        "arr = [10, 15, 3, 7]\n",
        "k = 17\n",
        "print(existe_suma(arr, k))  # Debería imprimir True\n"
      ]
    }
  ]
}