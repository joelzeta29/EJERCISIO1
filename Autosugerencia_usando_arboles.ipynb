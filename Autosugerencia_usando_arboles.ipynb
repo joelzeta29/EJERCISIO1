{
  "nbformat": 4,
  "nbformat_minor": 0,
  "metadata": {
    "colab": {
      "provenance": [],
      "authorship_tag": "ABX9TyP5hqZfGnTrSTL6J2s0VJJv",
      "include_colab_link": true
    },
    "kernelspec": {
      "name": "python3",
      "display_name": "Python 3"
    },
    "language_info": {
      "name": "python"
    }
  },
  "cells": [
    {
      "cell_type": "markdown",
      "metadata": {
        "id": "view-in-github",
        "colab_type": "text"
      },
      "source": [
        "<a href=\"https://colab.research.google.com/github/joelzeta29/EJERCISIO1/blob/main/Autosugerencia_usando_arboles.ipynb\" target=\"_parent\"><img src=\"https://colab.research.google.com/assets/colab-badge.svg\" alt=\"Open In Colab\"/></a>"
      ]
    },
    {
      "cell_type": "markdown",
      "source": [
        "implementar una herramientade autosugerencia usando arboles trie\n",
        "*crear un diccionario (array)\n",
        "*implementar arbol trie"
      ],
      "metadata": {
        "id": "k2VjiXsagJ9d"
      }
    },
    {
      "cell_type": "code",
      "execution_count": null,
      "metadata": {
        "colab": {
          "base_uri": "https://localhost:8080/"
        },
        "id": "K0zMn_Wjf7FX",
        "outputId": "6dff8f85-4951-44e8-80e5-3420a38e5393"
      },
      "outputs": [
        {
          "output_type": "stream",
          "name": "stdout",
          "text": [
            "Escribe tu palabra (presiona Enter para salir):\n",
            "Escribe la siguiente letra: carr\n",
            "Sugerencias para 'carr': ['carro']\n"
          ]
        }
      ],
      "source": [
        " class TrieNode:\n",
        "    def __init__(self):\n",
        "        self.children = {}\n",
        "        self.is_end_of_word = False\n",
        "\n",
        "class Trie:\n",
        "    def __init__(self):\n",
        "        self.root = TrieNode()\n",
        "\n",
        "    def insertar(self, palabra):\n",
        "        node = self.root\n",
        "        for char in palabra:\n",
        "            if char not in node.children:\n",
        "                node.children[char] = TrieNode()\n",
        "            node = node.children[char]\n",
        "        node.is_end_of_word = True\n",
        "\n",
        "    def buscar_sugerencias(self, prefijo):\n",
        "        node = self.root\n",
        "        for char in prefijo:\n",
        "            if char not in node.children:\n",
        "                return []\n",
        "            node = node.children[char]\n",
        "\n",
        "        # Recoger todas las palabras que empiezan con el prefijo\n",
        "        sugerencias = []\n",
        "        self._recoger_palabras(node, prefijo, sugerencias)\n",
        "        return sugerencias\n",
        "\n",
        "    def _recoger_palabras(self, node, prefijo, sugerencias):\n",
        "        if node.is_end_of_word:\n",
        "            sugerencias.append(prefijo)\n",
        "\n",
        "        for char, siguiente_nodo in node.children.items():\n",
        "            self._recoger_palabras(siguiente_nodo, prefijo + char, sugerencias)\n",
        "\n",
        "# Crear e insertar palabras en el Trie\n",
        "diccionario = [\"casa\", \"carro\", \"perro\", \"persona\", \"computadora\", \"comida\"]\n",
        "trie = Trie()\n",
        "for palabra in diccionario:\n",
        "    trie.insertar(palabra)\n",
        "\n",
        "# Función interactiva para autosugerencias\n",
        "def autosugerencias(trie):\n",
        "    print(\"Escribe tu palabra (presiona Enter para salir):\")\n",
        "    prefijo = \"\"\n",
        "    while True:\n",
        "        # Obtener la siguiente letra del usuario\n",
        "        char = input(\"Escribe la siguiente letra: \").strip()\n",
        "        if char == \"\":\n",
        "            break\n",
        "        prefijo += char\n",
        "        sugerencias = trie.buscar_sugerencias(prefijo)\n",
        "        if sugerencias:\n",
        "            print(f\"Sugerencias para '{prefijo}': {sugerencias}\")\n",
        "        else:\n",
        "            print(f\"No hay sugerencias para '{prefijo}'.\")\n",
        "\n",
        "# Uso de la función interactiva\n",
        "autosugerencias(trie)\n",
        "\n"
      ]
    }
  ]
}