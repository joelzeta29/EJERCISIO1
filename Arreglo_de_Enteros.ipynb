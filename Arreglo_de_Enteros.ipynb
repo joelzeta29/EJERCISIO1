{
  "nbformat": 4,
  "nbformat_minor": 0,
  "metadata": {
    "colab": {
      "provenance": [],
      "authorship_tag": "ABX9TyMQzSEsKHgIAzrIcFxNriS9",
      "include_colab_link": true
    },
    "kernelspec": {
      "name": "python3",
      "display_name": "Python 3"
    },
    "language_info": {
      "name": "python"
    }
  },
  "cells": [
    {
      "cell_type": "markdown",
      "metadata": {
        "id": "view-in-github",
        "colab_type": "text"
      },
      "source": [
        "<a href=\"https://colab.research.google.com/github/joelzeta29/EJERCISIO1/blob/main/Arreglo_de_Enteros.ipynb\" target=\"_parent\"><img src=\"https://colab.research.google.com/assets/colab-badge.svg\" alt=\"Open In Colab\"/></a>"
      ]
    },
    {
      "cell_type": "markdown",
      "source": [
        "DADO UN ARREGLO DE ENTEROS, HALLAR EL PRODUCTO MAXIMO DE 3 NUMEROS DIFERENTES\n",
        "*ENTRADA CANTIDAD DE NUMEROS = 6\n",
        "*LOS NUMEROS SEPARADOS POR ESPACIOS = 2,3,4,-6,-8,1\n",
        "*SALIDAD= EL PRODUCTO MAXIMO DE 3 NUMEROS = 192"
      ],
      "metadata": {
        "id": "YWZVIzykfh8F"
      }
    },
    {
      "cell_type": "code",
      "execution_count": 1,
      "metadata": {
        "colab": {
          "base_uri": "https://localhost:8080/"
        },
        "id": "1IagOBKJe-dZ",
        "outputId": "11aa7efa-a22c-4ab5-f430-ee7a6660b03f"
      },
      "outputs": [
        {
          "output_type": "stream",
          "name": "stdout",
          "text": [
            "El producto máximo de 3 números = 192\n"
          ]
        }
      ],
      "source": [
        "def producto_maximo_tres_numeros(arr):\n",
        "    # Ordenar el arreglo\n",
        "    arr.sort()\n",
        "\n",
        "    # Calcular el producto de los tres números más grandes\n",
        "    max1 = arr[-1] * arr[-2] * arr[-3]\n",
        "\n",
        "    # Calcular el producto de los dos números más pequeños y el número más grande\n",
        "    max2 = arr[0] * arr[1] * arr[-1]\n",
        "\n",
        "    # Retornar el máximo de los dos productos\n",
        "    return max(max1, max2)\n",
        "\n",
        "# Ejemplo de uso\n",
        "arr = [2, 3, 4, -6, -8, 1]\n",
        "producto_maximo = producto_maximo_tres_numeros(arr)\n",
        "print(f\"El producto máximo de 3 números = {producto_maximo}\")  # Debería imprimir 192\n"
      ]
    }
  ]
}