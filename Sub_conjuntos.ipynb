{
  "nbformat": 4,
  "nbformat_minor": 0,
  "metadata": {
    "colab": {
      "provenance": [],
      "authorship_tag": "ABX9TyM5sSiwXjMkfPD2taeXBbc1",
      "include_colab_link": true
    },
    "kernelspec": {
      "name": "python3",
      "display_name": "Python 3"
    },
    "language_info": {
      "name": "python"
    }
  },
  "cells": [
    {
      "cell_type": "markdown",
      "metadata": {
        "id": "view-in-github",
        "colab_type": "text"
      },
      "source": [
        "<a href=\"https://colab.research.google.com/github/joelzeta29/EJERCISIO1/blob/main/Sub_conjuntos.ipynb\" target=\"_parent\"><img src=\"https://colab.research.google.com/assets/colab-badge.svg\" alt=\"Open In Colab\"/></a>"
      ]
    },
    {
      "cell_type": "markdown",
      "source": [
        "Dado un arreglo de enteros unicos genera todos los subconjuntos posibles (potencia de conjuntos)"
      ],
      "metadata": {
        "id": "2omTH3VNkhPU"
      }
    },
    {
      "cell_type": "code",
      "source": [
        "def generar_subconjuntos(arr, metodo=\"recursivo\"):\n",
        "    if metodo == \"recursivo\":\n",
        "        return generar_subconjuntos_recursivo(arr)\n",
        "    elif metodo == \"bits\":\n",
        "        return generar_subconjuntos_bits(arr)\n",
        "    else:\n",
        "        raise ValueError(\"Método no reconocido. Use 'recursivo' o 'bits'.\")\n",
        "\n",
        "# Enfoque Recursivo\n",
        "def generar_subconjuntos_recursivo(arr):\n",
        "    resultado = []\n",
        "    generar_subconjuntos_aux(arr, [], 0, resultado)\n",
        "    return resultado\n",
        "\n",
        "def generar_subconjuntos_aux(arr, actual, index, resultado):\n",
        "    # Agregar el subconjunto actual al resultado\n",
        "    resultado.append(list(actual))\n",
        "\n",
        "    # Recorrer los elementos restantes\n",
        "    for i in range(index, len(arr)):\n",
        "        # Incluir el elemento arr[i] en el subconjunto actual\n",
        "        actual.append(arr[i])\n",
        "        # Continuar con el siguiente elemento\n",
        "        generar_subconjuntos_aux(arr, actual, i + 1, resultado)\n",
        "        # Excluir el elemento arr[i] del subconjunto actual\n",
        "        actual.pop()\n",
        "\n",
        "# Enfoque de Manipulación de Bits\n",
        "def generar_subconjuntos_bits(arr):\n",
        "    n = len(arr)\n",
        "    resultado = []\n",
        "    # Hay 2^n subconjuntos posibles\n",
        "    for i in range(2 ** n):\n",
        "        subconjunto = []\n",
        "        for j in range(n):\n",
        "            # Si el j-ésimo bit de i está encendido, incluir arr[j]\n",
        "            if (i & (1 << j)) > 0:\n",
        "                subconjunto.append(arr[j])\n",
        "        resultado.append(subconjunto)\n",
        "    return resultado\n",
        "\n",
        "# Ejemplo de uso\n",
        "arr = [1, 2, 3]\n",
        "subconjuntos_recursivo = generar_subconjuntos(arr, metodo=\"recursivo\")\n",
        "subconjuntos_bits = generar_subconjuntos(arr, metodo=\"bits\")\n",
        "\n",
        "print(\"Subconjuntos generados por el enfoque recursivo:\")\n",
        "print(subconjuntos_recursivo)\n",
        "print(\"\\nSubconjuntos generados por el enfoque de manipulación de bits:\")\n",
        "print(subconjuntos_bits)\n"
      ],
      "metadata": {
        "colab": {
          "base_uri": "https://localhost:8080/"
        },
        "id": "GSJWP3kwkloS",
        "outputId": "13209266-78f2-484d-98fb-0d90e7fda401"
      },
      "execution_count": 3,
      "outputs": [
        {
          "output_type": "stream",
          "name": "stdout",
          "text": [
            "Subconjuntos generados por el enfoque recursivo:\n",
            "[[], [1], [1, 2], [1, 2, 3], [1, 3], [2], [2, 3], [3]]\n",
            "\n",
            "Subconjuntos generados por el enfoque de manipulación de bits:\n",
            "[[], [1], [2], [1, 2], [3], [1, 3], [2, 3], [1, 2, 3]]\n"
          ]
        }
      ]
    }
  ]
}