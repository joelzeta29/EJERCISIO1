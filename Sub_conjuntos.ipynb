{
  "nbformat": 4,
  "nbformat_minor": 0,
  "metadata": {
    "colab": {
      "provenance": [],
      "authorship_tag": "ABX9TyNKmqxjHUBNGeyuiE42Hd7y",
      "include_colab_link": true
    },
    "kernelspec": {
      "name": "python3",
      "display_name": "Python 3"
    },
    "language_info": {
      "name": "python"
    }
  },
  "cells": [
    {
      "cell_type": "markdown",
      "metadata": {
        "id": "view-in-github",
        "colab_type": "text"
      },
      "source": [
        "<a href=\"https://colab.research.google.com/github/joelzeta29/EJERCISIO1/blob/main/Sub_conjuntos.ipynb\" target=\"_parent\"><img src=\"https://colab.research.google.com/assets/colab-badge.svg\" alt=\"Open In Colab\"/></a>"
      ]
    },
    {
      "cell_type": "markdown",
      "source": [
        "Dado una matriz cuadrada  de nxn, escribe una funcion que rote la amtriz 90 gradosen sentido horario y de vuelva la matriz rotada"
      ],
      "metadata": {
        "id": "TvW9hGuYl02j"
      }
    },
    {
      "cell_type": "code",
      "source": [
        "def rotar_matriz_90(matriz):\n",
        "    n = len(matriz)\n",
        "\n",
        "    # Transponer la matriz\n",
        "    for i in range(n):\n",
        "        for j in range(i, n):\n",
        "            matriz[i][j], matriz[j][i] = matriz[j][i], matriz[i][j]\n",
        "\n",
        "    # Invertir cada fila\n",
        "    for i in range(n):\n",
        "        matriz[i] = matriz[i][::-1]\n",
        "\n",
        "    return matriz\n",
        "\n",
        "# Ejemplo de uso\n",
        "matriz = [\n",
        "    [1, 2, 3],\n",
        "    [4, 5, 6],\n",
        "    [7, 8, 9]\n",
        "]\n",
        "\n",
        "matriz_rotada = rotar_matriz_90(matriz)\n",
        "for fila in matriz_rotada:\n",
        "    print(fila)\n"
      ],
      "metadata": {
        "colab": {
          "base_uri": "https://localhost:8080/"
        },
        "id": "TP1a5pBKl1ab",
        "outputId": "baba9f9d-042d-468f-b2dc-f0dc5d0d43be"
      },
      "execution_count": 4,
      "outputs": [
        {
          "output_type": "stream",
          "name": "stdout",
          "text": [
            "[7, 4, 1]\n",
            "[8, 5, 2]\n",
            "[9, 6, 3]\n"
          ]
        }
      ]
    }
  ]
}